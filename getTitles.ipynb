{
 "cells": [
  {
   "cell_type": "code",
   "execution_count": 53,
   "metadata": {},
   "outputs": [],
   "source": [
    "import xml.etree.ElementTree as ET\n",
    "import csv\n",
    "\n",
    "\"\"\"\n",
    "Note that you'll most likely need to postprocess the titles.csv file,\n",
    " as it may include irrelevent informations\n",
    "\"\"\"\n",
    "# you'll first need to get the xml dump from wikipedia, easy find.\n",
    "# https://dumps.wikimedia.org/-yourlanguageIdentifier-wiki/latest/\n",
    "\n",
    "# Open and parse the XML file\n",
    "dumpath = r'language-bwiki-date-pages-meta-current.xml'\n",
    "tree = ET.parse(dumpath)\n",
    "\n",
    "# Define the XML namespace\n",
    "namespace = {'mw': 'http://www.mediawiki.org/xml/export-0.10/'}\n",
    "\n",
    "# Get the root element\n",
    "root = tree.getroot()\n",
    "titles = []\n",
    "# Find and print the titles of the pages\n",
    "for page in root.findall('.//mw:page', namespace):\n",
    "    title_element = page.find('mw:title', namespace)\n",
    "    title = title_element.text\n",
    "    titles.append(title)\n",
    "with open(r'titles.csv', 'w', newline='', encoding='utf-8') as csvfile:\n",
    "    writer = csv.writer(csvfile, delimiter='\\t')\n",
    "    writer.writerow(['Title'])  # Write the header\n",
    "    writer.writerows([[title] for title in titles])  # Write the titles row by row\n"
   ]
  }
 ],
 "metadata": {
  "kernelspec": {
   "display_name": "Python 3",
   "language": "python",
   "name": "python3"
  },
  "language_info": {
   "codemirror_mode": {
    "name": "ipython",
    "version": 3
   },
   "file_extension": ".py",
   "mimetype": "text/x-python",
   "name": "python",
   "nbconvert_exporter": "python",
   "pygments_lexer": "ipython3",
   "version": "3.10.8"
  },
  "orig_nbformat": 4
 },
 "nbformat": 4,
 "nbformat_minor": 2
}
